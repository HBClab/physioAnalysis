{
 "cells": [
  {
   "cell_type": "code",
   "execution_count": 2,
   "metadata": {},
   "outputs": [],
   "source": [
    "import neurokit as nk\n",
    "import pandas as pd\n",
    "import numpy as np\n",
    "from glob import glob\n",
    "import matplotlib.pyplot as plt\n",
    "import warnings\n",
    "import re\n",
    "import os\n",
    "import json"
   ]
  },
  {
   "cell_type": "markdown",
   "metadata": {},
   "source": [
    "## Explore BikeExtend data"
   ]
  },
  {
   "cell_type": "code",
   "execution_count": 8,
   "metadata": {},
   "outputs": [
    {
     "name": "stdout",
     "output_type": "stream",
     "text": [
      "Neuropsydia error: get_creation_date(): We're probably on Linux. No easy way to get creation dates here, so we'll settle for when its content was last modified.\n"
     ]
    },
    {
     "data": {
      "text/plain": [
       "96559"
      ]
     },
     "execution_count": 8,
     "metadata": {},
     "output_type": "execute_result"
    }
   ],
   "source": [
    "acq_df, samp_rate = nk.bio.bio_data.read_acqknowledge(\"../data/sub-2002/ses-day1pre/sub-2002_ses-day1pre_0002.acq\")\n",
    "acq_df.shape[0]"
   ]
  },
  {
   "cell_type": "code",
   "execution_count": 9,
   "metadata": {},
   "outputs": [
    {
     "data": {
      "text/html": [
       "<div>\n",
       "<style scoped>\n",
       "    .dataframe tbody tr th:only-of-type {\n",
       "        vertical-align: middle;\n",
       "    }\n",
       "\n",
       "    .dataframe tbody tr th {\n",
       "        vertical-align: top;\n",
       "    }\n",
       "\n",
       "    .dataframe thead th {\n",
       "        text-align: right;\n",
       "    }\n",
       "</style>\n",
       "<table border=\"1\" class=\"dataframe\">\n",
       "  <thead>\n",
       "    <tr style=\"text-align: right;\">\n",
       "      <th></th>\n",
       "      <th>PPG100C</th>\n",
       "      <th>GSR100C</th>\n",
       "      <th>RSP100C</th>\n",
       "      <th>Scanner TTL</th>\n",
       "      <th>Scanner Trigger</th>\n",
       "    </tr>\n",
       "  </thead>\n",
       "  <tbody>\n",
       "    <tr>\n",
       "      <th>2019-07-10 07:45:49.774886</th>\n",
       "      <td>-0.037842</td>\n",
       "      <td>0.585939</td>\n",
       "      <td>1.594849</td>\n",
       "      <td>0.000000</td>\n",
       "      <td>5.0</td>\n",
       "    </tr>\n",
       "    <tr>\n",
       "      <th>2019-07-10 07:45:49.779886</th>\n",
       "      <td>-0.038147</td>\n",
       "      <td>0.585939</td>\n",
       "      <td>1.585693</td>\n",
       "      <td>0.000000</td>\n",
       "      <td>5.0</td>\n",
       "    </tr>\n",
       "    <tr>\n",
       "      <th>2019-07-10 07:45:49.784886</th>\n",
       "      <td>-0.039368</td>\n",
       "      <td>0.588991</td>\n",
       "      <td>1.572571</td>\n",
       "      <td>-0.001221</td>\n",
       "      <td>5.0</td>\n",
       "    </tr>\n",
       "    <tr>\n",
       "      <th>2019-07-10 07:45:49.789886</th>\n",
       "      <td>-0.039368</td>\n",
       "      <td>0.585939</td>\n",
       "      <td>1.555481</td>\n",
       "      <td>-0.000305</td>\n",
       "      <td>5.0</td>\n",
       "    </tr>\n",
       "    <tr>\n",
       "      <th>2019-07-10 07:45:49.794886</th>\n",
       "      <td>-0.039368</td>\n",
       "      <td>0.585939</td>\n",
       "      <td>1.538696</td>\n",
       "      <td>-0.001221</td>\n",
       "      <td>0.0</td>\n",
       "    </tr>\n",
       "  </tbody>\n",
       "</table>\n",
       "</div>"
      ],
      "text/plain": [
       "                             PPG100C   GSR100C   RSP100C  Scanner TTL  \\\n",
       "2019-07-10 07:45:49.774886 -0.037842  0.585939  1.594849     0.000000   \n",
       "2019-07-10 07:45:49.779886 -0.038147  0.585939  1.585693     0.000000   \n",
       "2019-07-10 07:45:49.784886 -0.039368  0.588991  1.572571    -0.001221   \n",
       "2019-07-10 07:45:49.789886 -0.039368  0.585939  1.555481    -0.000305   \n",
       "2019-07-10 07:45:49.794886 -0.039368  0.585939  1.538696    -0.001221   \n",
       "\n",
       "                            Scanner Trigger  \n",
       "2019-07-10 07:45:49.774886              5.0  \n",
       "2019-07-10 07:45:49.779886              5.0  \n",
       "2019-07-10 07:45:49.784886              5.0  \n",
       "2019-07-10 07:45:49.789886              5.0  \n",
       "2019-07-10 07:45:49.794886              0.0  "
      ]
     },
     "execution_count": 9,
     "metadata": {},
     "output_type": "execute_result"
    }
   ],
   "source": [
    "# see what the dataframe looks like\n",
    "acq_df.head()"
   ]
  },
  {
   "cell_type": "code",
   "execution_count": 10,
   "metadata": {},
   "outputs": [
    {
     "name": "stdout",
     "output_type": "stream",
     "text": [
      "-0.0378418\t0.585939\t1.59485\t0\t5\t\n",
      "-0.038147\t0.585939\t1.58569\t0\t5\t\n",
      "-0.0393677\t0.588991\t1.57257\t-0.0012207\t5\t\n",
      "-0.0393677\t0.585939\t1.55548\t-0.000305176\t5\t\n",
      "-0.0393677\t0.585939\t1.5387\t-0.0012207\t0\t\n"
     ]
    }
   ],
   "source": [
    "# use a bash command to look inside the correct txt file\n",
    "!head -n 5 ../data/sub-2002/ses-day1pre/sub-2002_ses-day1pre_task-rest_run-2_physio.txt"
   ]
  },
  {
   "cell_type": "code",
   "execution_count": 11,
   "metadata": {},
   "outputs": [
    {
     "data": {
      "text/plain": [
       "Index(['PPG100C', 'GSR100C', 'RSP100C', 'Scanner TTL', 'Scanner Trigger'], dtype='object')"
      ]
     },
     "execution_count": 11,
     "metadata": {},
     "output_type": "execute_result"
    }
   ],
   "source": [
    "# since there is no header in the txt file, we need to supply our own header\n",
    "# in the pandas dataframe\n",
    "acq_df.columns"
   ]
  },
  {
   "cell_type": "code",
   "execution_count": 12,
   "metadata": {},
   "outputs": [
    {
     "data": {
      "text/html": [
       "<div>\n",
       "<style scoped>\n",
       "    .dataframe tbody tr th:only-of-type {\n",
       "        vertical-align: middle;\n",
       "    }\n",
       "\n",
       "    .dataframe tbody tr th {\n",
       "        vertical-align: top;\n",
       "    }\n",
       "\n",
       "    .dataframe thead th {\n",
       "        text-align: right;\n",
       "    }\n",
       "</style>\n",
       "<table border=\"1\" class=\"dataframe\">\n",
       "  <thead>\n",
       "    <tr style=\"text-align: right;\">\n",
       "      <th></th>\n",
       "      <th>PPG100C</th>\n",
       "      <th>GSR100C</th>\n",
       "      <th>RSP100C</th>\n",
       "      <th>Scanner TTL</th>\n",
       "      <th>Scanner Trigger</th>\n",
       "    </tr>\n",
       "  </thead>\n",
       "  <tbody>\n",
       "    <tr>\n",
       "      <th>0</th>\n",
       "      <td>-0.037842</td>\n",
       "      <td>0.585939</td>\n",
       "      <td>1.59485</td>\n",
       "      <td>0.000000</td>\n",
       "      <td>5</td>\n",
       "    </tr>\n",
       "    <tr>\n",
       "      <th>1</th>\n",
       "      <td>-0.038147</td>\n",
       "      <td>0.585939</td>\n",
       "      <td>1.58569</td>\n",
       "      <td>0.000000</td>\n",
       "      <td>5</td>\n",
       "    </tr>\n",
       "    <tr>\n",
       "      <th>2</th>\n",
       "      <td>-0.039368</td>\n",
       "      <td>0.588991</td>\n",
       "      <td>1.57257</td>\n",
       "      <td>-0.001221</td>\n",
       "      <td>5</td>\n",
       "    </tr>\n",
       "    <tr>\n",
       "      <th>3</th>\n",
       "      <td>-0.039368</td>\n",
       "      <td>0.585939</td>\n",
       "      <td>1.55548</td>\n",
       "      <td>-0.000305</td>\n",
       "      <td>5</td>\n",
       "    </tr>\n",
       "    <tr>\n",
       "      <th>4</th>\n",
       "      <td>-0.039368</td>\n",
       "      <td>0.585939</td>\n",
       "      <td>1.53870</td>\n",
       "      <td>-0.001221</td>\n",
       "      <td>0</td>\n",
       "    </tr>\n",
       "  </tbody>\n",
       "</table>\n",
       "</div>"
      ],
      "text/plain": [
       "    PPG100C   GSR100C  RSP100C  Scanner TTL  Scanner Trigger\n",
       "0 -0.037842  0.585939  1.59485     0.000000                5\n",
       "1 -0.038147  0.585939  1.58569     0.000000                5\n",
       "2 -0.039368  0.588991  1.57257    -0.001221                5\n",
       "3 -0.039368  0.585939  1.55548    -0.000305                5\n",
       "4 -0.039368  0.585939  1.53870    -0.001221                0"
      ]
     },
     "execution_count": 12,
     "metadata": {},
     "output_type": "execute_result"
    }
   ],
   "source": [
    "txt_df = pd.read_csv(\"../data/sub-2002/ses-day1pre/sub-2002_ses-day1pre_task-rest_run-2_physio.txt\",\n",
    "            header=None,\n",
    "            index_col=False,\n",
    "            names=acq_df.columns,\n",
    "            sep=\"\\t\")\n",
    "txt_df.head()"
   ]
  },
  {
   "cell_type": "code",
   "execution_count": 13,
   "metadata": {},
   "outputs": [],
   "source": [
    "# let's take a look at heart rate data\n",
    "s = acq_df['PPG100C']"
   ]
  },
  {
   "cell_type": "code",
   "execution_count": 14,
   "metadata": {},
   "outputs": [
    {
     "data": {
      "text/plain": [
       "-0.03814697265625"
      ]
     },
     "execution_count": 14,
     "metadata": {},
     "output_type": "execute_result"
    }
   ],
   "source": [
    "# what's at index 1?\n",
    "acq_df['PPG100C'][1]"
   ]
  },
  {
   "cell_type": "code",
   "execution_count": 15,
   "metadata": {},
   "outputs": [
    {
     "data": {
      "text/plain": [
       "-0.03814697265625"
      ]
     },
     "execution_count": 15,
     "metadata": {},
     "output_type": "execute_result"
    }
   ],
   "source": [
    "# is this the same?\n",
    "s[1]"
   ]
  },
  {
   "cell_type": "code",
   "execution_count": 17,
   "metadata": {},
   "outputs": [
    {
     "data": {
      "text/plain": [
       "-0.038147"
      ]
     },
     "execution_count": 17,
     "metadata": {},
     "output_type": "execute_result"
    }
   ],
   "source": [
    "# whats the value in the txt_df, is it the same acq_df?\n",
    "txt_df['PPG100C'][1]"
   ]
  },
  {
   "cell_type": "code",
   "execution_count": 18,
   "metadata": {},
   "outputs": [
    {
     "data": {
      "text/plain": [
       "False"
      ]
     },
     "execution_count": 18,
     "metadata": {},
     "output_type": "execute_result"
    }
   ],
   "source": [
    "# the columns are not identical\n",
    "acq_df['PPG100C'].reset_index(drop=True).equals(txt_df['PPG100C'])"
   ]
  },
  {
   "cell_type": "code",
   "execution_count": 19,
   "metadata": {},
   "outputs": [],
   "source": [
    "a = acq_df['PPG100C'].reset_index(drop=True)"
   ]
  },
  {
   "cell_type": "code",
   "execution_count": 20,
   "metadata": {},
   "outputs": [],
   "source": [
    "t = txt_df['PPG100C']"
   ]
  },
  {
   "cell_type": "code",
   "execution_count": 21,
   "metadata": {},
   "outputs": [
    {
     "data": {
      "text/plain": [
       "True"
      ]
     },
     "execution_count": 21,
     "metadata": {},
     "output_type": "execute_result"
    }
   ],
   "source": [
    "# when we compare a column by asking if they are \"close enough\"\n",
    "np.all(np.isclose(a, t))"
   ]
  },
  {
   "cell_type": "markdown",
   "metadata": {},
   "source": [
    "## Explore Atrain data"
   ]
  },
  {
   "cell_type": "code",
   "execution_count": 23,
   "metadata": {},
   "outputs": [
    {
     "name": "stdout",
     "output_type": "stream",
     "text": [
      "Neuropsydia error: get_creation_date(): We're probably on Linux. No easy way to get creation dates here, so we'll settle for when its content was last modified.\n"
     ]
    }
   ],
   "source": [
    "acq_df, samp_rate = nk.bio.bio_data.read_acqknowledge(\"../data/sub-GEA161/ses-activepre/acute161_0002.acq\")"
   ]
  },
  {
   "cell_type": "code",
   "execution_count": 24,
   "metadata": {},
   "outputs": [
    {
     "data": {
      "text/html": [
       "<div>\n",
       "<style scoped>\n",
       "    .dataframe tbody tr th:only-of-type {\n",
       "        vertical-align: middle;\n",
       "    }\n",
       "\n",
       "    .dataframe tbody tr th {\n",
       "        vertical-align: top;\n",
       "    }\n",
       "\n",
       "    .dataframe thead th {\n",
       "        text-align: right;\n",
       "    }\n",
       "</style>\n",
       "<table border=\"1\" class=\"dataframe\">\n",
       "  <thead>\n",
       "    <tr style=\"text-align: right;\">\n",
       "      <th></th>\n",
       "      <th>PPG100C</th>\n",
       "      <th>GSR100C</th>\n",
       "      <th>RSP100C</th>\n",
       "      <th>Scanner TTL</th>\n",
       "      <th>Scanner Trigger</th>\n",
       "    </tr>\n",
       "  </thead>\n",
       "  <tbody>\n",
       "    <tr>\n",
       "      <th>2019-07-15 15:07:38.930648</th>\n",
       "      <td>0.007019</td>\n",
       "      <td>1.969911</td>\n",
       "      <td>-3.726501</td>\n",
       "      <td>-0.000610</td>\n",
       "      <td>5.0</td>\n",
       "    </tr>\n",
       "    <tr>\n",
       "      <th>2019-07-15 15:07:38.935648</th>\n",
       "      <td>0.007935</td>\n",
       "      <td>1.974489</td>\n",
       "      <td>-3.734131</td>\n",
       "      <td>-0.000305</td>\n",
       "      <td>5.0</td>\n",
       "    </tr>\n",
       "    <tr>\n",
       "      <th>2019-07-15 15:07:38.940648</th>\n",
       "      <td>0.008240</td>\n",
       "      <td>1.974489</td>\n",
       "      <td>-3.744812</td>\n",
       "      <td>-0.000305</td>\n",
       "      <td>5.0</td>\n",
       "    </tr>\n",
       "    <tr>\n",
       "      <th>2019-07-15 15:07:38.945648</th>\n",
       "      <td>0.007324</td>\n",
       "      <td>1.968385</td>\n",
       "      <td>-3.760681</td>\n",
       "      <td>-0.000916</td>\n",
       "      <td>5.0</td>\n",
       "    </tr>\n",
       "    <tr>\n",
       "      <th>2019-07-15 15:07:38.950648</th>\n",
       "      <td>0.007629</td>\n",
       "      <td>1.969911</td>\n",
       "      <td>-3.782043</td>\n",
       "      <td>-0.000610</td>\n",
       "      <td>5.0</td>\n",
       "    </tr>\n",
       "  </tbody>\n",
       "</table>\n",
       "</div>"
      ],
      "text/plain": [
       "                             PPG100C   GSR100C   RSP100C  Scanner TTL  \\\n",
       "2019-07-15 15:07:38.930648  0.007019  1.969911 -3.726501    -0.000610   \n",
       "2019-07-15 15:07:38.935648  0.007935  1.974489 -3.734131    -0.000305   \n",
       "2019-07-15 15:07:38.940648  0.008240  1.974489 -3.744812    -0.000305   \n",
       "2019-07-15 15:07:38.945648  0.007324  1.968385 -3.760681    -0.000916   \n",
       "2019-07-15 15:07:38.950648  0.007629  1.969911 -3.782043    -0.000610   \n",
       "\n",
       "                            Scanner Trigger  \n",
       "2019-07-15 15:07:38.930648              5.0  \n",
       "2019-07-15 15:07:38.935648              5.0  \n",
       "2019-07-15 15:07:38.940648              5.0  \n",
       "2019-07-15 15:07:38.945648              5.0  \n",
       "2019-07-15 15:07:38.950648              5.0  "
      ]
     },
     "execution_count": 24,
     "metadata": {},
     "output_type": "execute_result"
    }
   ],
   "source": [
    "acq_df.head()"
   ]
  },
  {
   "cell_type": "code",
   "execution_count": 26,
   "metadata": {},
   "outputs": [],
   "source": [
    "# use a bash command to look inside the correct txt file\n",
    "# cannot read because of line endings CRLF instead of LF\n",
    "# !head -n 5 ../data/sub-GEA161/ses-activepre/NBack1_1.txt\n"
   ]
  },
  {
   "cell_type": "code",
   "execution_count": 28,
   "metadata": {},
   "outputs": [
    {
     "data": {
      "text/html": [
       "<div>\n",
       "<style scoped>\n",
       "    .dataframe tbody tr th:only-of-type {\n",
       "        vertical-align: middle;\n",
       "    }\n",
       "\n",
       "    .dataframe tbody tr th {\n",
       "        vertical-align: top;\n",
       "    }\n",
       "\n",
       "    .dataframe thead th {\n",
       "        text-align: right;\n",
       "    }\n",
       "</style>\n",
       "<table border=\"1\" class=\"dataframe\">\n",
       "  <thead>\n",
       "    <tr style=\"text-align: right;\">\n",
       "      <th></th>\n",
       "      <th>PPG100C</th>\n",
       "      <th>GSR100C</th>\n",
       "      <th>RSP100C</th>\n",
       "      <th>Scanner TTL</th>\n",
       "      <th>Scanner Trigger</th>\n",
       "    </tr>\n",
       "  </thead>\n",
       "  <tbody>\n",
       "    <tr>\n",
       "      <th>0</th>\n",
       "      <td>acute161_0002.acq</td>\n",
       "      <td>NaN</td>\n",
       "      <td>NaN</td>\n",
       "      <td>NaN</td>\n",
       "      <td>NaN</td>\n",
       "    </tr>\n",
       "    <tr>\n",
       "      <th>1</th>\n",
       "      <td>5 msec/sample</td>\n",
       "      <td>NaN</td>\n",
       "      <td>NaN</td>\n",
       "      <td>NaN</td>\n",
       "      <td>NaN</td>\n",
       "    </tr>\n",
       "    <tr>\n",
       "      <th>2</th>\n",
       "      <td>5 channels</td>\n",
       "      <td>NaN</td>\n",
       "      <td>NaN</td>\n",
       "      <td>NaN</td>\n",
       "      <td>NaN</td>\n",
       "    </tr>\n",
       "    <tr>\n",
       "      <th>3</th>\n",
       "      <td>PPG100C</td>\n",
       "      <td>NaN</td>\n",
       "      <td>NaN</td>\n",
       "      <td>NaN</td>\n",
       "      <td>NaN</td>\n",
       "    </tr>\n",
       "    <tr>\n",
       "      <th>4</th>\n",
       "      <td>Volts</td>\n",
       "      <td>NaN</td>\n",
       "      <td>NaN</td>\n",
       "      <td>NaN</td>\n",
       "      <td>NaN</td>\n",
       "    </tr>\n",
       "  </tbody>\n",
       "</table>\n",
       "</div>"
      ],
      "text/plain": [
       "             PPG100C GSR100C RSP100C Scanner TTL Scanner Trigger\n",
       "0  acute161_0002.acq     NaN     NaN         NaN             NaN\n",
       "1      5 msec/sample     NaN     NaN         NaN             NaN\n",
       "2         5 channels     NaN     NaN         NaN             NaN\n",
       "3            PPG100C     NaN     NaN         NaN             NaN\n",
       "4              Volts     NaN     NaN         NaN             NaN"
      ]
     },
     "execution_count": 28,
     "metadata": {},
     "output_type": "execute_result"
    }
   ],
   "source": [
    "# this way of reading the file does not work\n",
    "txt_df = pd.read_csv(\"../data/sub-GEA161/ses-activepre/Rest1_1.txt\",\n",
    "            header=None,\n",
    "            index_col=False,\n",
    "            names=acq_df.columns,\n",
    "            sep=\"\\t\")\n",
    "txt_df.head()"
   ]
  },
  {
   "cell_type": "code",
   "execution_count": 29,
   "metadata": {},
   "outputs": [
    {
     "data": {
      "text/plain": [
       "True"
      ]
     },
     "execution_count": 29,
     "metadata": {},
     "output_type": "execute_result"
    }
   ],
   "source": [
    "np.any(txt_df.iloc[0,:].isnull())"
   ]
  },
  {
   "cell_type": "code",
   "execution_count": 30,
   "metadata": {},
   "outputs": [
    {
     "data": {
      "text/html": [
       "<div>\n",
       "<style scoped>\n",
       "    .dataframe tbody tr th:only-of-type {\n",
       "        vertical-align: middle;\n",
       "    }\n",
       "\n",
       "    .dataframe tbody tr th {\n",
       "        vertical-align: top;\n",
       "    }\n",
       "\n",
       "    .dataframe thead th {\n",
       "        text-align: right;\n",
       "    }\n",
       "</style>\n",
       "<table border=\"1\" class=\"dataframe\">\n",
       "  <thead>\n",
       "    <tr style=\"text-align: right;\">\n",
       "      <th></th>\n",
       "      <th>PPG100C</th>\n",
       "      <th>GSR100C</th>\n",
       "      <th>RSP100C</th>\n",
       "      <th>Scanner TTL</th>\n",
       "      <th>Scanner Trigger</th>\n",
       "    </tr>\n",
       "  </thead>\n",
       "  <tbody>\n",
       "    <tr>\n",
       "      <th>0.000000</th>\n",
       "      <td>0.007019</td>\n",
       "      <td>1.96991</td>\n",
       "      <td>-3.72650</td>\n",
       "      <td>-0.000610</td>\n",
       "      <td>5</td>\n",
       "    </tr>\n",
       "    <tr>\n",
       "      <th>0.000083</th>\n",
       "      <td>0.007935</td>\n",
       "      <td>1.97449</td>\n",
       "      <td>-3.73413</td>\n",
       "      <td>-0.000305</td>\n",
       "      <td>5</td>\n",
       "    </tr>\n",
       "    <tr>\n",
       "      <th>0.000167</th>\n",
       "      <td>0.008240</td>\n",
       "      <td>1.97449</td>\n",
       "      <td>-3.74481</td>\n",
       "      <td>-0.000305</td>\n",
       "      <td>5</td>\n",
       "    </tr>\n",
       "    <tr>\n",
       "      <th>0.000250</th>\n",
       "      <td>0.007324</td>\n",
       "      <td>1.96839</td>\n",
       "      <td>-3.76068</td>\n",
       "      <td>-0.000916</td>\n",
       "      <td>5</td>\n",
       "    </tr>\n",
       "    <tr>\n",
       "      <th>0.000333</th>\n",
       "      <td>0.007629</td>\n",
       "      <td>1.96991</td>\n",
       "      <td>-3.78204</td>\n",
       "      <td>-0.000610</td>\n",
       "      <td>5</td>\n",
       "    </tr>\n",
       "  </tbody>\n",
       "</table>\n",
       "</div>"
      ],
      "text/plain": [
       "           PPG100C  GSR100C  RSP100C  Scanner TTL  Scanner Trigger\n",
       "0.000000  0.007019  1.96991 -3.72650    -0.000610                5\n",
       "0.000083  0.007935  1.97449 -3.73413    -0.000305                5\n",
       "0.000167  0.008240  1.97449 -3.74481    -0.000305                5\n",
       "0.000250  0.007324  1.96839 -3.76068    -0.000916                5\n",
       "0.000333  0.007629  1.96991 -3.78204    -0.000610                5"
      ]
     },
     "execution_count": 30,
     "metadata": {},
     "output_type": "execute_result"
    }
   ],
   "source": [
    "# correct way to read atrain txt file\n",
    "txt_df = pd.read_csv(\"../data/sub-GEA161/ses-activepre/Rest1_1.txt\",\n",
    "                     header=14,\n",
    "                     index_col=0,\n",
    "                     delim_whitespace=True,\n",
    "                     names=acq_df.columns)\n",
    "# txt_df.drop([0,1,2,3,4], axis=0, inplace=True)\n",
    "\n",
    "txt_df.head()"
   ]
  },
  {
   "cell_type": "code",
   "execution_count": 45,
   "metadata": {},
   "outputs": [
    {
     "data": {
      "text/plain": [
       "Index(['PPG100C', 'GSR100C', 'RSP100C', 'Scanner TTL', 'Scanner Trigger'], dtype='object')"
      ]
     },
     "execution_count": 45,
     "metadata": {},
     "output_type": "execute_result"
    }
   ],
   "source": [
    "acq_df.columns"
   ]
  },
  {
   "cell_type": "code",
   "execution_count": 34,
   "metadata": {},
   "outputs": [],
   "source": [
    "atrain_file = \"../data/sub-GEA161/ses-activepre/Rest1_1.txt\"\n",
    "atrain_ptrn = re.compile(r\".*/\"\n",
    "                         r\"(?P<sub_id>sub-[A-Za-z0-9]+)\"\n",
    "                         r\"/(?P<ses_id>ses-[A-Za-z0-9]+)\"\n",
    "                         r\"/(?P<task_id>[A-Za-z]+)[1-9]\"\n",
    "                         r\"(_(?P<run_id>[0-9]))?.txt\")\n",
    "\n",
    "extend_file = \"../data/sub-2002/ses-day1pre/sub-2002_ses-day1pre_task-rest_physio.txt\"\n",
    "extend_ptrn = re.compile(r\".*/\"\n",
    "                         r\"(?P<sub_id>sub-[A-Za-z0-9]+)\"\n",
    "                         r\"(_(?P<ses_id>ses-[A-Za-z0-9]+))\"\n",
    "                         r\"(_(?P<task_id>task-[A-Za-z0-9]+))\"\n",
    "                         r\"(_(?P<run_id>run-[0-9]+))?\"\n",
    "                         r\"(_physio)?.txt\")\n",
    "atrain_mch = atrain_ptrn.match(atrain_file)\n",
    "extend_mch = extend_ptrn.match(extend_file)"
   ]
  },
  {
   "cell_type": "code",
   "execution_count": 35,
   "metadata": {},
   "outputs": [
    {
     "data": {
      "text/plain": [
       "{'sub_id': 'sub-GEA161',\n",
       " 'ses_id': 'ses-activepre',\n",
       " 'task_id': 'Rest',\n",
       " 'run_id': '1'}"
      ]
     },
     "metadata": {},
     "output_type": "display_data"
    },
    {
     "data": {
      "text/plain": [
       "{'sub_id': 'sub-2002',\n",
       " 'ses_id': 'ses-day1pre',\n",
       " 'task_id': 'task-rest',\n",
       " 'run_id': None}"
      ]
     },
     "metadata": {},
     "output_type": "display_data"
    }
   ],
   "source": [
    "display(atrain_mch.groupdict())\n",
    "display(extend_mch.groupdict())"
   ]
  },
  {
   "cell_type": "code",
   "execution_count": 123,
   "metadata": {},
   "outputs": [],
   "source": [
    "res = nk.bio_eda.eda_process(acq_df['GSR100C'], filter_type='butter', band=\"highpass\", order=2, frequency=0.0005, sampling_rate=200)"
   ]
  },
  {
   "cell_type": "code",
   "execution_count": 124,
   "metadata": {},
   "outputs": [
    {
     "data": {
      "text/html": [
       "<div>\n",
       "<style scoped>\n",
       "    .dataframe tbody tr th:only-of-type {\n",
       "        vertical-align: middle;\n",
       "    }\n",
       "\n",
       "    .dataframe tbody tr th {\n",
       "        vertical-align: top;\n",
       "    }\n",
       "\n",
       "    .dataframe thead th {\n",
       "        text-align: right;\n",
       "    }\n",
       "</style>\n",
       "<table border=\"1\" class=\"dataframe\">\n",
       "  <thead>\n",
       "    <tr style=\"text-align: right;\">\n",
       "      <th></th>\n",
       "      <th>EDA_Raw</th>\n",
       "      <th>EDA_Filtered</th>\n",
       "      <th>EDA_Phasic</th>\n",
       "      <th>EDA_Tonic</th>\n",
       "      <th>SCR_Onsets</th>\n",
       "      <th>SCR_Recoveries</th>\n",
       "      <th>SCR_Peaks</th>\n",
       "    </tr>\n",
       "  </thead>\n",
       "  <tbody>\n",
       "    <tr>\n",
       "      <th>0</th>\n",
       "      <td>8.593752</td>\n",
       "      <td>0.138790</td>\n",
       "      <td>0.000000</td>\n",
       "      <td>2.271725</td>\n",
       "      <td>NaN</td>\n",
       "      <td>NaN</td>\n",
       "      <td>NaN</td>\n",
       "    </tr>\n",
       "    <tr>\n",
       "      <th>1</th>\n",
       "      <td>8.590700</td>\n",
       "      <td>0.138788</td>\n",
       "      <td>0.000000</td>\n",
       "      <td>2.271783</td>\n",
       "      <td>NaN</td>\n",
       "      <td>NaN</td>\n",
       "      <td>NaN</td>\n",
       "    </tr>\n",
       "    <tr>\n",
       "      <th>2</th>\n",
       "      <td>8.592226</td>\n",
       "      <td>0.138785</td>\n",
       "      <td>0.039807</td>\n",
       "      <td>2.271840</td>\n",
       "      <td>NaN</td>\n",
       "      <td>NaN</td>\n",
       "      <td>NaN</td>\n",
       "    </tr>\n",
       "    <tr>\n",
       "      <th>3</th>\n",
       "      <td>8.587648</td>\n",
       "      <td>0.138782</td>\n",
       "      <td>0.039668</td>\n",
       "      <td>2.271897</td>\n",
       "      <td>NaN</td>\n",
       "      <td>NaN</td>\n",
       "      <td>NaN</td>\n",
       "    </tr>\n",
       "    <tr>\n",
       "      <th>4</th>\n",
       "      <td>8.592226</td>\n",
       "      <td>0.138779</td>\n",
       "      <td>0.039529</td>\n",
       "      <td>2.271954</td>\n",
       "      <td>NaN</td>\n",
       "      <td>NaN</td>\n",
       "      <td>NaN</td>\n",
       "    </tr>\n",
       "  </tbody>\n",
       "</table>\n",
       "</div>"
      ],
      "text/plain": [
       "    EDA_Raw  EDA_Filtered  EDA_Phasic  EDA_Tonic  SCR_Onsets  SCR_Recoveries  \\\n",
       "0  8.593752      0.138790    0.000000   2.271725         NaN             NaN   \n",
       "1  8.590700      0.138788    0.000000   2.271783         NaN             NaN   \n",
       "2  8.592226      0.138785    0.039807   2.271840         NaN             NaN   \n",
       "3  8.587648      0.138782    0.039668   2.271897         NaN             NaN   \n",
       "4  8.592226      0.138779    0.039529   2.271954         NaN             NaN   \n",
       "\n",
       "   SCR_Peaks  \n",
       "0        NaN  \n",
       "1        NaN  \n",
       "2        NaN  \n",
       "3        NaN  \n",
       "4        NaN  "
      ]
     },
     "execution_count": 124,
     "metadata": {},
     "output_type": "execute_result"
    }
   ],
   "source": [
    "res['df'].head()"
   ]
  },
  {
   "cell_type": "code",
   "execution_count": 127,
   "metadata": {},
   "outputs": [
    {
     "data": {
      "text/plain": [
       "-0.01060736976041536"
      ]
     },
     "execution_count": 127,
     "metadata": {},
     "output_type": "execute_result"
    }
   ],
   "source": [
    "out = res['df']\n",
    "out[\"EDA_Filtered\"].mean()"
   ]
  },
  {
   "cell_type": "code",
   "execution_count": 126,
   "metadata": {},
   "outputs": [
    {
     "data": {
      "image/png": "[encoded data removed]",
      "text/plain": [
       "<Figure size 432x288 with 1 Axes>"
      ]
     },
     "metadata": {
      "needs_background": "light"
     },
     "output_type": "display_data"
    }
   ],
   "source": [
    "out.plot(y=[\"EDA_Raw\", \"EDA_Filtered\"])\n",
    "plt.savefig('test.png')"
   ]
  },
  {
   "cell_type": "code",
   "execution_count": null,
   "metadata": {},
   "outputs": [],
   "source": [
    "plt.plot(res['df'][[\"EDA_Raw\", \"EDA_Filtered\"]])"
   ]
  },
  {
   "cell_type": "code",
   "execution_count": null,
   "metadata": {},
   "outputs": [],
   "source": [
    "start = acq_df[\"Scanner Trigger\"].where(acq_df[\"Scanner Trigger\"]==0.0).first_valid_index()\n",
    "end = acq_df[\"Scanner Trigger\"].where(acq_df[\"Scanner Trigger\"]==0.0).last_valid_index()"
   ]
  },
  {
   "cell_type": "code",
   "execution_count": null,
   "metadata": {},
   "outputs": [],
   "source": [
    "acq_cut_df = acq_df.iloc[(acq_df.index >= start) & (acq_df.index <= end)]\n",
    "display(acq_cut_df.head())\n",
    "display(acq_cut_df.tail())"
   ]
  },
  {
   "cell_type": "code",
   "execution_count": 71,
   "metadata": {},
   "outputs": [],
   "source": [
    "# functions to analyze gsr data\n",
    "def match_acq_txt(acq, txts):\n",
    "    # minimum length of the data file (data for 1 second)\n",
    "    min_len = 200\n",
    "    # connects the acqknowledge file to the txt file\n",
    "    acq_txt_dict = {}\n",
    "    # read the acqknowledge file\n",
    "    acq_df, samp_rate = nk.bio.bio_data.read_acqknowledge(acq)\n",
    "    # there should be enough rows in the dataframes\n",
    "    if acq_df.shape[0] < min_len:\n",
    "        return None, acq, txts\n",
    "            \n",
    "    # big loop to see which txt file goes with the acknowledge file\n",
    "    for txt in txts:\n",
    "        # only look at txt files in the same directory as acknowledge file\n",
    "        if os.path.dirname(acq) != os.path.dirname(txt):\n",
    "            continue\n",
    "        # attempt 1 to read the txt file\n",
    "        # assumes no header information and no time column\n",
    "        txt_df = pd.read_csv(txt,\n",
    "        header=None,\n",
    "        index_col=False,\n",
    "        names=acq_df.columns,\n",
    "        sep=\"\\t\")\n",
    "\n",
    "        # the file may have a header\n",
    "        if np.any(txt_df.iloc[0,:].isnull()):\n",
    "            # assume the txt file has a header\n",
    "            try:\n",
    "                txt_df = pd.read_csv(txt,\n",
    "                    header=14,\n",
    "                    index_col=0,\n",
    "                    delim_whitespace=True,\n",
    "                    names=acq_df.columns)\n",
    "            except:\n",
    "                # assume the acknowledge file does not have the \"Scanner TTl column\"\n",
    "                columns = list(acq_df.columns)\n",
    "                columns.insert(-1, \"Scanner TTL\")\n",
    "                txt_df = pd.read_csv(txt,\n",
    "                    header=14,\n",
    "                    index_col=0,\n",
    "                    delim_whitespace=True,\n",
    "                    names=columns)\n",
    "            # assume in the two above cases,\n",
    "            # there is a time column being treated as the index\n",
    "            txt_df.reset_index(drop=True, inplace=True)\n",
    "        # select this column for comparisons\n",
    "        # assume the txt and acq have at least min_len rows\n",
    "        a = acq_df['PPG100C'].reset_index(drop=True)[:min_len]\n",
    "        t = txt_df['PPG100C'][:min_len]\n",
    "\n",
    "        # the columns cannot be identical due to rounding error,\n",
    "        # but can be close\n",
    "        if np.all(np.isclose(a, t)):\n",
    "            acq_txt_dict[acq] = {'txt': txt, 'df': acq_df}\n",
    "            txts.remove(txt)\n",
    "            return acq_txt_dict, None, txts\n",
    "    \n",
    "    # nothing matches\n",
    "    return None, acq, txts\n",
    "\n",
    "def filter_gsr(acq_txt_dict):\n",
    "    key = list(acq_txt_dict.keys())[0]\n",
    "    \n",
    "    acq_df = acq_txt_dict[key]['df']\n",
    "    # where the Scanner Trigger is 0 initiates a slice acquition in the scanner\n",
    "    # this may be false in some scenerios (e.g. when scan trigger is always 0)\n",
    "    start = acq_df[\"Scanner Trigger\"].where(acq_df[\"Scanner Trigger\"]==0.0).first_valid_index()\n",
    "    end = acq_df[\"Scanner Trigger\"].where(acq_df[\"Scanner Trigger\"]==0.0).last_valid_index()\n",
    "    if start is None or end is None:\n",
    "        warnings.warn(\"Scan Trigger Not Recognized, keeping all rows\")\n",
    "        acq_cut_df = acq_df\n",
    "    else:\n",
    "        acq_cut_df = acq_df.iloc[(acq_df.index >= start) & (acq_df.index <= end)]\n",
    "\n",
    "    # process the GSR data\n",
    "    res = nk.bio_eda.eda_process(acq_df['GSR100C'], filter_type='butter',\n",
    "                                 band=\"lowpass\", order=1, frequency=1,\n",
    "                                 sampling_rate=200)\n",
    "\n",
    "    acq_txt_dict[key]['df'] = res['df']\n",
    "    return acq_txt_dict\n",
    "\n",
    "def gen_filenames(acq_txt_dict):\n",
    "    # pattern for matching atrain files\n",
    "    atrain_ptrn = re.compile(r\".*/\"\n",
    "                             r\"(?P<sub_id>sub-[A-Za-z0-9]+)\"\n",
    "                             r\"/(?P<ses_id>ses-[A-Za-z0-9]+)\"\n",
    "                             r\"/(?P<task_id>[A-Za-z]+)[1-9]\"\n",
    "                             r\"(_(?P<run_id>[0-9]))?.txt\")\n",
    "    # pattern for matching extend files\n",
    "    extend_ptrn = re.compile(r\".*/\"\n",
    "                             r\"(?P<sub_id>sub-[A-Za-z0-9]+)\"\n",
    "                             r\"(_(?P<ses_id>ses-[A-Za-z0-9]+))\"\n",
    "                             r\"(_(?P<task_id>task-[A-Za-z0-9]+))\"\n",
    "                             r\"(_(?P<run_id>run-[0-9]+))?\"\n",
    "                             r\"(_physio)?.txt\")\n",
    "    for acq, tgt_dct in acq_txt_dict.items():\n",
    "        atrain_mch = atrain_ptrn.match(tgt_dct['txt'])\n",
    "        extend_mch = extend_ptrn.match(tgt_dct['txt'])\n",
    "        \n",
    "        if atrain_mch:\n",
    "            fdict = atrain_mch.groupdict()\n",
    "            # make task lowercase\n",
    "            fdict['task_id'] = fdict['task_id'].lower()\n",
    "            # make the runs 1 or 2 (since there are only 2 runs per session)\n",
    "            if fdict['run_id'] == \"3\" or fdict['run_id'] == \"4\":\n",
    "                fdict['run_id'] = int(fdict['run_id']) - 2\n",
    "        elif extend_mch:\n",
    "            fdict = extend_mch.groupdict()\n",
    "            # make run an integer if necessary\n",
    "            if fdict[\"run_id\"]:\n",
    "                fdict[\"run_id\"] = int(fdict[\"run_id\"].lstrip(\"run-\"))\n",
    "        else:\n",
    "            raise(\"FileName did not match either atrain or extend pattern\")\n",
    "\n",
    "        # strip the keys from the labels\n",
    "        fdict[\"sub_id\"] = fdict[\"sub_id\"].lstrip(\"sub-\")\n",
    "        fdict[\"ses_id\"] = fdict[\"ses_id\"].lstrip(\"ses-\")\n",
    "        fdict[\"task_id\"] = fdict[\"task_id\"].lstrip(\"task-\")\n",
    "        \n",
    "        # template output file changes depending if run is a key or not\n",
    "        if not fdict[\"run_id\"]:\n",
    "            tmplt = os.path.join(outdir,\n",
    "                                 \"sub-{sub_id}\",\n",
    "                                 \"ses-{ses_id}\",\n",
    "                                 \"sub-{sub_id}_ses-{ses_id}_task-{task_id}_{typ}.{ext}\")\n",
    "        elif fdict[\"run_id\"]:\n",
    "            tmplt = os.path.join(outdir,\n",
    "                                 \"sub-{sub_id}\",\n",
    "                                 \"ses-{ses_id}\",\n",
    "                                 \"sub-{sub_id}_ses-{ses_id}_task-{task_id}_run-{run_id}_{typ}.{ext}\")\n",
    "        fig_file = tmplt.format(**fdict, typ=\"qa\", ext=\"svg\")\n",
    "        data_file = tmplt.format(**fdict, typ=\"physio\", ext=\"tsv\")\n",
    "        sum_file = tmplt.format(**fdict, typ=\"summary\", ext=\"json\")\n",
    "        \n",
    "        return {'fig': fig_file, 'data': data_file, 'smry': sum_file, 'fdict': fdict}\n",
    "\n",
    "def write_results(acq_txt_dict, filenames):\n",
    "    key = list(acq_txt_dict.keys())[0]\n",
    "    \n",
    "    fdict = filenames['fdict']\n",
    "    out_df = acq_txt_dict[key]['df']\n",
    "    out_df.to_csv(filenames['data'])\n",
    "    title = os.path.basename(filenames['fig'].split('.')[1])\n",
    "    out_df.plot(y=[\"EDA_Raw\", \"EDA_Filtered\"], title=title)\n",
    "    plt.savefig(filenames['fig'])\n",
    "    plt.clf()\n",
    "\n",
    "    sub_dict = {\n",
    "        \"participant_id\": fdict[\"sub_id\"],\n",
    "        \"session_id\": fdict[\"ses_id\"],\n",
    "        \"task_id\": fdict[\"task_id\"],\n",
    "        \"run_id\": fdict.get(\"run_id\"),\n",
    "        \"EDA_mean\": out_df[\"EDA_Filtered\"].mean(),\n",
    "        \"EDA_median\": out_df[\"EDA_Filtered\"].median(),\n",
    "        \"EDA_std\": out_df[\"EDA_Filtered\"].std()\n",
    "    }\n",
    "\n",
    "    with open(filenames['smry'], 'w') as outfile:  \n",
    "        json.dump(sub_dict, outfile)\n",
    "    \n",
    "    return sub_dict\n",
    "\n",
    "        \n",
    "def analyze_gsr(acqs, txts, outdir):\n",
    "    group_tsv = os.path.join(outdir, \"group.tsv\")\n",
    "    acq_nonmatches = []\n",
    "    group_msr = []\n",
    "    for acq in acqs:\n",
    "        acq_txt_dict, acq_nonmatch, txts = match_acq_txt(acq, txts)\n",
    "        if acq_txt_dict is None:\n",
    "            acq_nonmatches.append(acq_nonmatch)\n",
    "            continue\n",
    "        \n",
    "        fname_dict = gen_filenames(acq_txt_dict)\n",
    "        \n",
    "        if (\n",
    "            os.path.isfile(fname_dict['fig']) and\n",
    "            os.path.isfile(fname_dict['data']) and\n",
    "            os.path.isfile(fname_dict['smry'])\n",
    "           ):\n",
    "            with open(fname_dict['smry']) as json_file:  \n",
    "                sub_dict = json.load(json_file)\n",
    "        else:\n",
    "            acq_txt_dict_proc = filter_gsr(acq_txt_dict)\n",
    "            sub_dict = write_results(acq_txt_dict_proc, fname_dict)\n",
    "        \n",
    "        group_msr.append(sub_dict)\n",
    "  \n",
    "    group_df = pd.DataFrame(group_msr)\n",
    "    group_df.to_csv(group_tsv, sep=\"\\t\")\n",
    "    txt_nonmatch = txts\n",
    "    \n",
    "    return acq_txt_dict_proc, no_acq_matches, no_txt_matches, group_df\n",
    "            "
   ]
  },
  {
   "cell_type": "code",
   "execution_count": 72,
   "metadata": {},
   "outputs": [],
   "source": [
    "acqs = glob(\"../data/sub-*/ses-*/*.acq\")\n",
    "\n",
    "txts = glob(\"../data/sub-*/ses-*/*.txt\")\n",
    "\n",
    "outdir = '../output/qaTrain'"
   ]
  },
  {
   "cell_type": "code",
   "execution_count": 73,
   "metadata": {},
   "outputs": [
    {
     "data": {
      "text/plain": [
       "['../data/sub-2002/ses-day1post/sub-2002_ses-day1post_task-rest_run-1_physio.txt',\n",
       " '../data/sub-2002/ses-day1post/sub-2002_ses-day1post_task-rest_run-2_physio.txt',\n",
       " '../data/sub-2002/ses-day1post/sub-2002_ses-day1post_task-rest_run-3_physio.txt',\n",
       " '../data/sub-2002/ses-day1pre/sub-2002_ses-day1pre_task-breathhold.txt',\n",
       " '../data/sub-2002/ses-day1pre/sub-2002_ses-day1pre_task-rest_run-1_physio.txt']"
      ]
     },
     "execution_count": 73,
     "metadata": {},
     "output_type": "execute_result"
    }
   ],
   "source": [
    "txts[0:5]"
   ]
  },
  {
   "cell_type": "code",
   "execution_count": 74,
   "metadata": {},
   "outputs": [
    {
     "name": "stdout",
     "output_type": "stream",
     "text": [
      "Neuropsydia error: get_creation_date(): We're probably on Linux. No easy way to get creation dates here, so we'll settle for when its content was last modified.\n",
      "Neuropsydia error: get_creation_date(): We're probably on Linux. No easy way to get creation dates here, so we'll settle for when its content was last modified.\n",
      "Neuropsydia error: get_creation_date(): We're probably on Linux. No easy way to get creation dates here, so we'll settle for when its content was last modified.\n",
      "Neuropsydia error: get_creation_date(): We're probably on Linux. No easy way to get creation dates here, so we'll settle for when its content was last modified.\n",
      "Neuropsydia error: get_creation_date(): We're probably on Linux. No easy way to get creation dates here, so we'll settle for when its content was last modified.\n",
      "Neuropsydia error: get_creation_date(): We're probably on Linux. No easy way to get creation dates here, so we'll settle for when its content was last modified.\n",
      "Neuropsydia error: get_creation_date(): We're probably on Linux. No easy way to get creation dates here, so we'll settle for when its content was last modified.\n",
      "Neuropsydia error: get_creation_date(): We're probably on Linux. No easy way to get creation dates here, so we'll settle for when its content was last modified.\n",
      "Neuropsydia error: get_creation_date(): We're probably on Linux. No easy way to get creation dates here, so we'll settle for when its content was last modified.\n",
      "Neuropsydia error: get_creation_date(): We're probably on Linux. No easy way to get creation dates here, so we'll settle for when its content was last modified.\n",
      "Neuropsydia error: get_creation_date(): We're probably on Linux. No easy way to get creation dates here, so we'll settle for when its content was last modified.\n",
      "Neuropsydia error: get_creation_date(): We're probably on Linux. No easy way to get creation dates here, so we'll settle for when its content was last modified.\n",
      "Neuropsydia error: get_creation_date(): We're probably on Linux. No easy way to get creation dates here, so we'll settle for when its content was last modified.\n",
      "Neuropsydia error: get_creation_date(): We're probably on Linux. No easy way to get creation dates here, so we'll settle for when its content was last modified.\n",
      "Neuropsydia error: get_creation_date(): We're probably on Linux. No easy way to get creation dates here, so we'll settle for when its content was last modified.\n",
      "Neuropsydia error: get_creation_date(): We're probably on Linux. No easy way to get creation dates here, so we'll settle for when its content was last modified.\n",
      "Neuropsydia error: get_creation_date(): We're probably on Linux. No easy way to get creation dates here, so we'll settle for when its content was last modified.\n",
      "Neuropsydia error: get_creation_date(): We're probably on Linux. No easy way to get creation dates here, so we'll settle for when its content was last modified.\n",
      "Neuropsydia error: get_creation_date(): We're probably on Linux. No easy way to get creation dates here, so we'll settle for when its content was last modified.\n",
      "Neuropsydia error: get_creation_date(): We're probably on Linux. No easy way to get creation dates here, so we'll settle for when its content was last modified.\n",
      "Neuropsydia error: get_creation_date(): We're probably on Linux. No easy way to get creation dates here, so we'll settle for when its content was last modified.\n",
      "Neuropsydia error: get_creation_date(): We're probably on Linux. No easy way to get creation dates here, so we'll settle for when its content was last modified.\n",
      "Neuropsydia error: get_creation_date(): We're probably on Linux. No easy way to get creation dates here, so we'll settle for when its content was last modified.\n",
      "Neuropsydia error: get_creation_date(): We're probably on Linux. No easy way to get creation dates here, so we'll settle for when its content was last modified.\n",
      "Neuropsydia error: get_creation_date(): We're probably on Linux. No easy way to get creation dates here, so we'll settle for when its content was last modified.\n",
      "Neuropsydia error: get_creation_date(): We're probably on Linux. No easy way to get creation dates here, so we'll settle for when its content was last modified.\n",
      "Neuropsydia error: get_creation_date(): We're probably on Linux. No easy way to get creation dates here, so we'll settle for when its content was last modified.\n",
      "Neuropsydia error: get_creation_date(): We're probably on Linux. No easy way to get creation dates here, so we'll settle for when its content was last modified.\n",
      "Neuropsydia error: get_creation_date(): We're probably on Linux. No easy way to get creation dates here, so we'll settle for when its content was last modified.\n",
      "Neuropsydia error: get_creation_date(): We're probably on Linux. No easy way to get creation dates here, so we'll settle for when its content was last modified.\n",
      "Neuropsydia error: get_creation_date(): We're probably on Linux. No easy way to get creation dates here, so we'll settle for when its content was last modified.\n",
      "Neuropsydia error: get_creation_date(): We're probably on Linux. No easy way to get creation dates here, so we'll settle for when its content was last modified.\n",
      "Neuropsydia error: get_creation_date(): We're probably on Linux. No easy way to get creation dates here, so we'll settle for when its content was last modified.\n",
      "Neuropsydia error: get_creation_date(): We're probably on Linux. No easy way to get creation dates here, so we'll settle for when its content was last modified.\n",
      "Neuropsydia error: get_creation_date(): We're probably on Linux. No easy way to get creation dates here, so we'll settle for when its content was last modified.\n",
      "Neuropsydia error: get_creation_date(): We're probably on Linux. No easy way to get creation dates here, so we'll settle for when its content was last modified.\n",
      "Neuropsydia error: get_creation_date(): We're probably on Linux. No easy way to get creation dates here, so we'll settle for when its content was last modified.\n"
     ]
    },
    {
     "name": "stderr",
     "output_type": "stream",
     "text": [
      "/home/james/.conda/envs/physio/lib/python3.6/site-packages/ipykernel_launcher.py:71: UserWarning: Scan Trigger Not Recognized, keeping all rows\n"
     ]
    },
    {
     "name": "stdout",
     "output_type": "stream",
     "text": [
      "Neuropsydia error: get_creation_date(): We're probably on Linux. No easy way to get creation dates here, so we'll settle for when its content was last modified.\n",
      "Neuropsydia error: get_creation_date(): We're probably on Linux. No easy way to get creation dates here, so we'll settle for when its content was last modified.\n",
      "Neuropsydia error: get_creation_date(): We're probably on Linux. No easy way to get creation dates here, so we'll settle for when its content was last modified.\n",
      "Neuropsydia error: get_creation_date(): We're probably on Linux. No easy way to get creation dates here, so we'll settle for when its content was last modified.\n",
      "Neuropsydia error: get_creation_date(): We're probably on Linux. No easy way to get creation dates here, so we'll settle for when its content was last modified.\n"
     ]
    },
    {
     "data": {
      "text/plain": [
       "<Figure size 432x288 with 0 Axes>"
      ]
     },
     "metadata": {},
     "output_type": "display_data"
    }
   ],
   "source": [
    "acq_txt_dict, no_acq_matches, no_txt_matches, group_df = analyze_gsr(acqs, txts, outdir)"
   ]
  },
  {
   "cell_type": "code",
   "execution_count": 75,
   "metadata": {},
   "outputs": [
    {
     "data": {
      "text/html": [
       "<div>\n",
       "<style scoped>\n",
       "    .dataframe tbody tr th:only-of-type {\n",
       "        vertical-align: middle;\n",
       "    }\n",
       "\n",
       "    .dataframe tbody tr th {\n",
       "        vertical-align: top;\n",
       "    }\n",
       "\n",
       "    .dataframe thead th {\n",
       "        text-align: right;\n",
       "    }\n",
       "</style>\n",
       "<table border=\"1\" class=\"dataframe\">\n",
       "  <thead>\n",
       "    <tr style=\"text-align: right;\">\n",
       "      <th></th>\n",
       "      <th>EDA_mean</th>\n",
       "      <th>EDA_median</th>\n",
       "      <th>EDA_std</th>\n",
       "      <th>participant_id</th>\n",
       "      <th>run_id</th>\n",
       "      <th>session_id</th>\n",
       "      <th>task_id</th>\n",
       "    </tr>\n",
       "  </thead>\n",
       "  <tbody>\n",
       "    <tr>\n",
       "      <th>0</th>\n",
       "      <td>0.587949</td>\n",
       "      <td>0.589858</td>\n",
       "      <td>0.004312</td>\n",
       "      <td>2002</td>\n",
       "      <td>1</td>\n",
       "      <td>day1post</td>\n",
       "      <td>rest</td>\n",
       "    </tr>\n",
       "    <tr>\n",
       "      <th>1</th>\n",
       "      <td>0.578807</td>\n",
       "      <td>0.577970</td>\n",
       "      <td>0.002610</td>\n",
       "      <td>2002</td>\n",
       "      <td>2</td>\n",
       "      <td>day1post</td>\n",
       "      <td>rest</td>\n",
       "    </tr>\n",
       "    <tr>\n",
       "      <th>2</th>\n",
       "      <td>0.588329</td>\n",
       "      <td>0.588725</td>\n",
       "      <td>0.001319</td>\n",
       "      <td>2002</td>\n",
       "      <td>3</td>\n",
       "      <td>day1post</td>\n",
       "      <td>rest</td>\n",
       "    </tr>\n",
       "    <tr>\n",
       "      <th>3</th>\n",
       "      <td>0.588603</td>\n",
       "      <td>0.588674</td>\n",
       "      <td>0.001238</td>\n",
       "      <td>2002</td>\n",
       "      <td>1</td>\n",
       "      <td>day1pre</td>\n",
       "      <td>rest</td>\n",
       "    </tr>\n",
       "    <tr>\n",
       "      <th>4</th>\n",
       "      <td>0.575458</td>\n",
       "      <td>0.572946</td>\n",
       "      <td>0.005273</td>\n",
       "      <td>2002</td>\n",
       "      <td>2</td>\n",
       "      <td>day1pre</td>\n",
       "      <td>rest</td>\n",
       "    </tr>\n",
       "    <tr>\n",
       "      <th>5</th>\n",
       "      <td>0.577828</td>\n",
       "      <td>0.578081</td>\n",
       "      <td>0.002549</td>\n",
       "      <td>2002</td>\n",
       "      <td>3</td>\n",
       "      <td>day1pre</td>\n",
       "      <td>rest</td>\n",
       "    </tr>\n",
       "    <tr>\n",
       "      <th>6</th>\n",
       "      <td>0.584390</td>\n",
       "      <td>0.584903</td>\n",
       "      <td>0.001760</td>\n",
       "      <td>2002</td>\n",
       "      <td>None</td>\n",
       "      <td>day1pre</td>\n",
       "      <td>breathhold</td>\n",
       "    </tr>\n",
       "    <tr>\n",
       "      <th>7</th>\n",
       "      <td>0.582727</td>\n",
       "      <td>0.582840</td>\n",
       "      <td>0.000710</td>\n",
       "      <td>2002</td>\n",
       "      <td>1</td>\n",
       "      <td>day2post</td>\n",
       "      <td>run</td>\n",
       "    </tr>\n",
       "    <tr>\n",
       "      <th>8</th>\n",
       "      <td>0.577871</td>\n",
       "      <td>0.577898</td>\n",
       "      <td>0.002201</td>\n",
       "      <td>2002</td>\n",
       "      <td>2</td>\n",
       "      <td>day2post</td>\n",
       "      <td>rest</td>\n",
       "    </tr>\n",
       "    <tr>\n",
       "      <th>9</th>\n",
       "      <td>0.578623</td>\n",
       "      <td>0.578652</td>\n",
       "      <td>0.001022</td>\n",
       "      <td>2002</td>\n",
       "      <td>3</td>\n",
       "      <td>day2post</td>\n",
       "      <td>rest</td>\n",
       "    </tr>\n",
       "    <tr>\n",
       "      <th>10</th>\n",
       "      <td>0.567196</td>\n",
       "      <td>0.565610</td>\n",
       "      <td>0.003481</td>\n",
       "      <td>2002</td>\n",
       "      <td>1</td>\n",
       "      <td>day2pre</td>\n",
       "      <td>rest</td>\n",
       "    </tr>\n",
       "    <tr>\n",
       "      <th>11</th>\n",
       "      <td>0.571146</td>\n",
       "      <td>0.571861</td>\n",
       "      <td>0.002219</td>\n",
       "      <td>2002</td>\n",
       "      <td>2</td>\n",
       "      <td>day2pre</td>\n",
       "      <td>rest</td>\n",
       "    </tr>\n",
       "    <tr>\n",
       "      <th>12</th>\n",
       "      <td>0.572781</td>\n",
       "      <td>0.572933</td>\n",
       "      <td>0.000951</td>\n",
       "      <td>2002</td>\n",
       "      <td>3</td>\n",
       "      <td>day2pre</td>\n",
       "      <td>rest</td>\n",
       "    </tr>\n",
       "    <tr>\n",
       "      <th>13</th>\n",
       "      <td>0.619438</td>\n",
       "      <td>0.619463</td>\n",
       "      <td>0.000611</td>\n",
       "      <td>2002</td>\n",
       "      <td>1</td>\n",
       "      <td>post</td>\n",
       "      <td>rest</td>\n",
       "    </tr>\n",
       "    <tr>\n",
       "      <th>14</th>\n",
       "      <td>0.616695</td>\n",
       "      <td>0.616555</td>\n",
       "      <td>0.001320</td>\n",
       "      <td>2002</td>\n",
       "      <td>2</td>\n",
       "      <td>post</td>\n",
       "      <td>rest</td>\n",
       "    </tr>\n",
       "    <tr>\n",
       "      <th>15</th>\n",
       "      <td>0.612568</td>\n",
       "      <td>0.612455</td>\n",
       "      <td>0.001288</td>\n",
       "      <td>2002</td>\n",
       "      <td>3</td>\n",
       "      <td>post</td>\n",
       "      <td>rest</td>\n",
       "    </tr>\n",
       "    <tr>\n",
       "      <th>16</th>\n",
       "      <td>0.610000</td>\n",
       "      <td>0.610306</td>\n",
       "      <td>0.001224</td>\n",
       "      <td>2002</td>\n",
       "      <td>None</td>\n",
       "      <td>post</td>\n",
       "      <td>breathhold</td>\n",
       "    </tr>\n",
       "    <tr>\n",
       "      <th>17</th>\n",
       "      <td>1.958234</td>\n",
       "      <td>1.958491</td>\n",
       "      <td>0.001585</td>\n",
       "      <td>GEA161</td>\n",
       "      <td>2</td>\n",
       "      <td>activepost</td>\n",
       "      <td>rest</td>\n",
       "    </tr>\n",
       "    <tr>\n",
       "      <th>18</th>\n",
       "      <td>1.950441</td>\n",
       "      <td>1.950600</td>\n",
       "      <td>0.001491</td>\n",
       "      <td>GEA161</td>\n",
       "      <td>1</td>\n",
       "      <td>activepost</td>\n",
       "      <td>nback</td>\n",
       "    </tr>\n",
       "    <tr>\n",
       "      <th>19</th>\n",
       "      <td>1.942021</td>\n",
       "      <td>1.942714</td>\n",
       "      <td>0.004064</td>\n",
       "      <td>GEA161</td>\n",
       "      <td>2</td>\n",
       "      <td>activepost</td>\n",
       "      <td>nback</td>\n",
       "    </tr>\n",
       "    <tr>\n",
       "      <th>20</th>\n",
       "      <td>1.968369</td>\n",
       "      <td>1.969058</td>\n",
       "      <td>0.001996</td>\n",
       "      <td>GEA161</td>\n",
       "      <td>1</td>\n",
       "      <td>activepre</td>\n",
       "      <td>rest</td>\n",
       "    </tr>\n",
       "    <tr>\n",
       "      <th>21</th>\n",
       "      <td>1.954849</td>\n",
       "      <td>1.955303</td>\n",
       "      <td>0.001526</td>\n",
       "      <td>GEA161</td>\n",
       "      <td>1</td>\n",
       "      <td>activepre</td>\n",
       "      <td>nback</td>\n",
       "    </tr>\n",
       "    <tr>\n",
       "      <th>22</th>\n",
       "      <td>1.946853</td>\n",
       "      <td>1.947558</td>\n",
       "      <td>0.003570</td>\n",
       "      <td>GEA161</td>\n",
       "      <td>2</td>\n",
       "      <td>activepre</td>\n",
       "      <td>nback</td>\n",
       "    </tr>\n",
       "    <tr>\n",
       "      <th>23</th>\n",
       "      <td>1.939920</td>\n",
       "      <td>1.939600</td>\n",
       "      <td>0.002613</td>\n",
       "      <td>GEA161</td>\n",
       "      <td>None</td>\n",
       "      <td>activepre</td>\n",
       "      <td>breathhold</td>\n",
       "    </tr>\n",
       "    <tr>\n",
       "      <th>24</th>\n",
       "      <td>1.939342</td>\n",
       "      <td>1.939851</td>\n",
       "      <td>0.001245</td>\n",
       "      <td>GEA161</td>\n",
       "      <td>2</td>\n",
       "      <td>passivepost</td>\n",
       "      <td>rest</td>\n",
       "    </tr>\n",
       "    <tr>\n",
       "      <th>25</th>\n",
       "      <td>1.930266</td>\n",
       "      <td>1.931145</td>\n",
       "      <td>0.002504</td>\n",
       "      <td>GEA161</td>\n",
       "      <td>1</td>\n",
       "      <td>passivepost</td>\n",
       "      <td>nback</td>\n",
       "    </tr>\n",
       "    <tr>\n",
       "      <th>26</th>\n",
       "      <td>1.923247</td>\n",
       "      <td>1.923173</td>\n",
       "      <td>0.001451</td>\n",
       "      <td>GEA161</td>\n",
       "      <td>2</td>\n",
       "      <td>passivepost</td>\n",
       "      <td>nback</td>\n",
       "    </tr>\n",
       "    <tr>\n",
       "      <th>27</th>\n",
       "      <td>1.924345</td>\n",
       "      <td>1.924681</td>\n",
       "      <td>0.001070</td>\n",
       "      <td>GEA161</td>\n",
       "      <td>1</td>\n",
       "      <td>passivepre</td>\n",
       "      <td>rest</td>\n",
       "    </tr>\n",
       "    <tr>\n",
       "      <th>28</th>\n",
       "      <td>1.922060</td>\n",
       "      <td>1.922038</td>\n",
       "      <td>0.001040</td>\n",
       "      <td>GEA161</td>\n",
       "      <td>1</td>\n",
       "      <td>passivepre</td>\n",
       "      <td>nback</td>\n",
       "    </tr>\n",
       "    <tr>\n",
       "      <th>29</th>\n",
       "      <td>1.923968</td>\n",
       "      <td>1.922474</td>\n",
       "      <td>0.003231</td>\n",
       "      <td>GEA161</td>\n",
       "      <td>2</td>\n",
       "      <td>passivepre</td>\n",
       "      <td>nback</td>\n",
       "    </tr>\n",
       "    <tr>\n",
       "      <th>30</th>\n",
       "      <td>1.933507</td>\n",
       "      <td>1.933787</td>\n",
       "      <td>0.001688</td>\n",
       "      <td>GEA161</td>\n",
       "      <td>None</td>\n",
       "      <td>passivepre</td>\n",
       "      <td>breathhold</td>\n",
       "    </tr>\n",
       "  </tbody>\n",
       "</table>\n",
       "</div>"
      ],
      "text/plain": [
       "    EDA_mean  EDA_median   EDA_std participant_id run_id   session_id  \\\n",
       "0   0.587949    0.589858  0.004312           2002      1     day1post   \n",
       "1   0.578807    0.577970  0.002610           2002      2     day1post   \n",
       "2   0.588329    0.588725  0.001319           2002      3     day1post   \n",
       "3   0.588603    0.588674  0.001238           2002      1      day1pre   \n",
       "4   0.575458    0.572946  0.005273           2002      2      day1pre   \n",
       "5   0.577828    0.578081  0.002549           2002      3      day1pre   \n",
       "6   0.584390    0.584903  0.001760           2002   None      day1pre   \n",
       "7   0.582727    0.582840  0.000710           2002      1     day2post   \n",
       "8   0.577871    0.577898  0.002201           2002      2     day2post   \n",
       "9   0.578623    0.578652  0.001022           2002      3     day2post   \n",
       "10  0.567196    0.565610  0.003481           2002      1      day2pre   \n",
       "11  0.571146    0.571861  0.002219           2002      2      day2pre   \n",
       "12  0.572781    0.572933  0.000951           2002      3      day2pre   \n",
       "13  0.619438    0.619463  0.000611           2002      1         post   \n",
       "14  0.616695    0.616555  0.001320           2002      2         post   \n",
       "15  0.612568    0.612455  0.001288           2002      3         post   \n",
       "16  0.610000    0.610306  0.001224           2002   None         post   \n",
       "17  1.958234    1.958491  0.001585         GEA161      2   activepost   \n",
       "18  1.950441    1.950600  0.001491         GEA161      1   activepost   \n",
       "19  1.942021    1.942714  0.004064         GEA161      2   activepost   \n",
       "20  1.968369    1.969058  0.001996         GEA161      1    activepre   \n",
       "21  1.954849    1.955303  0.001526         GEA161      1    activepre   \n",
       "22  1.946853    1.947558  0.003570         GEA161      2    activepre   \n",
       "23  1.939920    1.939600  0.002613         GEA161   None    activepre   \n",
       "24  1.939342    1.939851  0.001245         GEA161      2  passivepost   \n",
       "25  1.930266    1.931145  0.002504         GEA161      1  passivepost   \n",
       "26  1.923247    1.923173  0.001451         GEA161      2  passivepost   \n",
       "27  1.924345    1.924681  0.001070         GEA161      1   passivepre   \n",
       "28  1.922060    1.922038  0.001040         GEA161      1   passivepre   \n",
       "29  1.923968    1.922474  0.003231         GEA161      2   passivepre   \n",
       "30  1.933507    1.933787  0.001688         GEA161   None   passivepre   \n",
       "\n",
       "       task_id  \n",
       "0         rest  \n",
       "1         rest  \n",
       "2         rest  \n",
       "3         rest  \n",
       "4         rest  \n",
       "5         rest  \n",
       "6   breathhold  \n",
       "7          run  \n",
       "8         rest  \n",
       "9         rest  \n",
       "10        rest  \n",
       "11        rest  \n",
       "12        rest  \n",
       "13        rest  \n",
       "14        rest  \n",
       "15        rest  \n",
       "16  breathhold  \n",
       "17        rest  \n",
       "18       nback  \n",
       "19       nback  \n",
       "20        rest  \n",
       "21       nback  \n",
       "22       nback  \n",
       "23  breathhold  \n",
       "24        rest  \n",
       "25       nback  \n",
       "26       nback  \n",
       "27        rest  \n",
       "28       nback  \n",
       "29       nback  \n",
       "30  breathhold  "
      ]
     },
     "execution_count": 75,
     "metadata": {},
     "output_type": "execute_result"
    }
   ],
   "source": [
    "group_df"
   ]
  },
  {
   "cell_type": "code",
   "execution_count": 45,
   "metadata": {},
   "outputs": [],
   "source": [
    "mydict = {\"this\": {\"one\": 1, \"two\": 2}}"
   ]
  },
  {
   "cell_type": "code",
   "execution_count": 49,
   "metadata": {},
   "outputs": [
    {
     "data": {
      "text/plain": [
       "'this'"
      ]
     },
     "execution_count": 49,
     "metadata": {},
     "output_type": "execute_result"
    }
   ],
   "source": [
    "list(mydict.keys())[0]"
   ]
  },
  {
   "cell_type": "code",
   "execution_count": null,
   "metadata": {},
   "outputs": [],
   "source": []
  }
 ],
 "metadata": {
  "kernelspec": {
   "display_name": "Python [conda env:physio]",
   "language": "python",
   "name": "conda-env-physio-py"
  },
  "language_info": {
   "codemirror_mode": {
    "name": "ipython",
    "version": 3
   },
   "file_extension": ".py",
   "mimetype": "text/x-python",
   "name": "python",
   "nbconvert_exporter": "python",
   "pygments_lexer": "ipython3",
   "version": "3.6.7"
  }
 },
 "nbformat": 4,
 "nbformat_minor": 2
}
